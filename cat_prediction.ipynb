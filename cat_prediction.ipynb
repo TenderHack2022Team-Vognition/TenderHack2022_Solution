{
 "cells": [
  {
   "cell_type": "code",
   "execution_count": 1,
   "metadata": {},
   "outputs": [],
   "source": [
    "%load_ext autoreload\n",
    "%autoreload 2"
   ]
  },
  {
   "cell_type": "code",
   "execution_count": 4,
   "metadata": {},
   "outputs": [
    {
     "name": "stderr",
     "output_type": "stream",
     "text": [
      "[nltk_data] Downloading package stopwords to\n",
      "[nltk_data]     /home/statixx/nltk_data...\n",
      "[nltk_data]   Package stopwords is already up-to-date!\n"
     ]
    },
    {
     "name": "stdout",
     "output_type": "stream",
     "text": [
      "INFO: Pandarallel will run on 4 workers.\n",
      "INFO: Pandarallel will use Memory file system to transfer data between the main process and workers.\n"
     ]
    }
   ],
   "source": [
    "from functions.preprocessing import get_train_val_data_for_catboost\n",
    "from functions.fit_eval_funcs import train_and_validate_catboost\n",
    "import pandas as pd\n",
    "import warnings\n",
    "warnings.filterwarnings('ignore')"
   ]
  },
  {
   "cell_type": "code",
   "execution_count": 5,
   "metadata": {},
   "outputs": [],
   "source": [
    "path = 'data/TenderHack_Москва_train_data.xls'\n",
    "data = pd.read_excel(path)"
   ]
  },
  {
   "cell_type": "code",
   "execution_count": 6,
   "metadata": {},
   "outputs": [
    {
     "data": {
      "text/html": [
       "<div>\n",
       "<style scoped>\n",
       "    .dataframe tbody tr th:only-of-type {\n",
       "        vertical-align: middle;\n",
       "    }\n",
       "\n",
       "    .dataframe tbody tr th {\n",
       "        vertical-align: top;\n",
       "    }\n",
       "\n",
       "    .dataframe thead th {\n",
       "        text-align: right;\n",
       "    }\n",
       "</style>\n",
       "<table border=\"1\" class=\"dataframe\">\n",
       "  <thead>\n",
       "    <tr style=\"text-align: right;\">\n",
       "      <th></th>\n",
       "      <th>id</th>\n",
       "      <th>Статус</th>\n",
       "      <th>Наименование КС</th>\n",
       "      <th>ОКПД 2</th>\n",
       "      <th>КПГЗ</th>\n",
       "      <th>Регион</th>\n",
       "      <th>НМЦК</th>\n",
       "      <th>Итоговая цена</th>\n",
       "      <th>Дата</th>\n",
       "      <th>Участники</th>\n",
       "      <th>Ставки</th>\n",
       "      <th>ИНН</th>\n",
       "    </tr>\n",
       "  </thead>\n",
       "  <tbody>\n",
       "    <tr>\n",
       "      <th>0</th>\n",
       "      <td>0</td>\n",
       "      <td>Завершена</td>\n",
       "      <td>СТУЛЬЯ УЧЕНИЧЕСКИЕ</td>\n",
       "      <td>NaN</td>\n",
       "      <td>01.06.01.03.01;01.06.01.03.01</td>\n",
       "      <td>Москва</td>\n",
       "      <td>596790.0</td>\n",
       "      <td>593806.05</td>\n",
       "      <td>2021-06-30 11:20:05.720</td>\n",
       "      <td>1</td>\n",
       "      <td>1</td>\n",
       "      <td>d8912494ba2edd3bfeba55206a78a0f5</td>\n",
       "    </tr>\n",
       "    <tr>\n",
       "      <th>1</th>\n",
       "      <td>1</td>\n",
       "      <td>Не состоялась</td>\n",
       "      <td>МЕДИЦИНСКИЕ РАСХОДНЫЕ МАТЕРИАЛЫ</td>\n",
       "      <td>NaN</td>\n",
       "      <td>01.02.10.50.33;01.02.10.43.05.01</td>\n",
       "      <td>Москва</td>\n",
       "      <td>4964.9</td>\n",
       "      <td>0.00</td>\n",
       "      <td>2022-10-04 09:16:04.770</td>\n",
       "      <td>0</td>\n",
       "      <td>0</td>\n",
       "      <td>237a5c57a66f02f8deb152e21f33863a</td>\n",
       "    </tr>\n",
       "    <tr>\n",
       "      <th>2</th>\n",
       "      <td>3</td>\n",
       "      <td>Завершена</td>\n",
       "      <td>Видеокарта Palit PCI-E</td>\n",
       "      <td>NaN</td>\n",
       "      <td>01.13.17.08</td>\n",
       "      <td>Москва</td>\n",
       "      <td>462000.0</td>\n",
       "      <td>311850.00</td>\n",
       "      <td>2021-07-01 13:23:09.177</td>\n",
       "      <td>6</td>\n",
       "      <td>65</td>\n",
       "      <td>040f1570117a744d529f4675f827a50f</td>\n",
       "    </tr>\n",
       "    <tr>\n",
       "      <th>3</th>\n",
       "      <td>4</td>\n",
       "      <td>Завершена</td>\n",
       "      <td>ТОВАРЫ ИНФОРМАЦИОННО-ТЕХНОЛОГИЧЕСКИЕ, СРЕДСТВА...</td>\n",
       "      <td>NaN</td>\n",
       "      <td>01.13.11.03.02;01.13.04.04.06.05;01.10.04.04.0...</td>\n",
       "      <td>Москва</td>\n",
       "      <td>505555.0</td>\n",
       "      <td>460042.90</td>\n",
       "      <td>2021-03-16 10:42:20.810</td>\n",
       "      <td>6</td>\n",
       "      <td>18</td>\n",
       "      <td>c00c03dca0274fe43fc34e974434a927</td>\n",
       "    </tr>\n",
       "    <tr>\n",
       "      <th>4</th>\n",
       "      <td>5</td>\n",
       "      <td>Завершена</td>\n",
       "      <td>Пинцет острый</td>\n",
       "      <td>NaN</td>\n",
       "      <td>01.02.10.06.48.04</td>\n",
       "      <td>Москва</td>\n",
       "      <td>2000.0</td>\n",
       "      <td>1980.00</td>\n",
       "      <td>2022-05-26 11:04:42.597</td>\n",
       "      <td>2</td>\n",
       "      <td>2</td>\n",
       "      <td>cc997efa7a6742b6119a3c253a084e80</td>\n",
       "    </tr>\n",
       "  </tbody>\n",
       "</table>\n",
       "</div>"
      ],
      "text/plain": [
       "   id         Статус                                    Наименование КС  \\\n",
       "0   0      Завершена                                 СТУЛЬЯ УЧЕНИЧЕСКИЕ   \n",
       "1   1  Не состоялась                    МЕДИЦИНСКИЕ РАСХОДНЫЕ МАТЕРИАЛЫ   \n",
       "2   3      Завершена                             Видеокарта Palit PCI-E   \n",
       "3   4      Завершена  ТОВАРЫ ИНФОРМАЦИОННО-ТЕХНОЛОГИЧЕСКИЕ, СРЕДСТВА...   \n",
       "4   5      Завершена                                      Пинцет острый   \n",
       "\n",
       "  ОКПД 2                                               КПГЗ  Регион      НМЦК  \\\n",
       "0    NaN                      01.06.01.03.01;01.06.01.03.01  Москва  596790.0   \n",
       "1    NaN                   01.02.10.50.33;01.02.10.43.05.01  Москва    4964.9   \n",
       "2    NaN                                        01.13.17.08  Москва  462000.0   \n",
       "3    NaN  01.13.11.03.02;01.13.04.04.06.05;01.10.04.04.0...  Москва  505555.0   \n",
       "4    NaN                                  01.02.10.06.48.04  Москва    2000.0   \n",
       "\n",
       "   Итоговая цена                     Дата  Участники  Ставки  \\\n",
       "0      593806.05  2021-06-30 11:20:05.720          1       1   \n",
       "1           0.00  2022-10-04 09:16:04.770          0       0   \n",
       "2      311850.00  2021-07-01 13:23:09.177          6      65   \n",
       "3      460042.90  2021-03-16 10:42:20.810          6      18   \n",
       "4        1980.00  2022-05-26 11:04:42.597          2       2   \n",
       "\n",
       "                                ИНН  \n",
       "0  d8912494ba2edd3bfeba55206a78a0f5  \n",
       "1  237a5c57a66f02f8deb152e21f33863a  \n",
       "2  040f1570117a744d529f4675f827a50f  \n",
       "3  c00c03dca0274fe43fc34e974434a927  \n",
       "4  cc997efa7a6742b6119a3c253a084e80  "
      ]
     },
     "execution_count": 6,
     "metadata": {},
     "output_type": "execute_result"
    }
   ],
   "source": [
    "data.head()"
   ]
  },
  {
   "attachments": {},
   "cell_type": "markdown",
   "metadata": {},
   "source": [
    "## Get data: (normally ended sessions and use datetime features)\n",
    "1. filter out normally ended sessions\n",
    "2. Add datetime features to feature dataframe"
   ]
  },
  {
   "cell_type": "code",
   "execution_count": 7,
   "metadata": {},
   "outputs": [
    {
     "name": "stdout",
     "output_type": "stream",
     "text": [
      "[INFO] X y split...\n",
      "[INFO] Done...\n"
     ]
    }
   ],
   "source": [
    "features, drawdown, num_competitors = get_train_val_data_for_catboost(data, status_columns=['Завершена'], use_date_features=True)"
   ]
  },
  {
   "attachments": {},
   "cell_type": "markdown",
   "metadata": {},
   "source": [
    "## Simple model using datetime features and other categorical objects"
   ]
  },
  {
   "attachments": {},
   "cell_type": "markdown",
   "metadata": {},
   "source": [
    "### Eval MAE error on 1st target on validation dataset: price drawdown in percents"
   ]
  },
  {
   "cell_type": "code",
   "execution_count": 8,
   "metadata": {},
   "outputs": [
    {
     "name": "stderr",
     "output_type": "stream",
     "text": [
      "Default metric period is 5 because MAE is/are not implemented for GPU\n"
     ]
    },
    {
     "name": "stdout",
     "output_type": "stream",
     "text": [
      "            R2        MAE\n",
      "Score  0.11111  12.720013\n"
     ]
    }
   ],
   "source": [
    "# MAE loss function\n",
    "drawdown_model = train_and_validate_catboost(features.train, features.valid, drawdown.train, drawdown.valid, \n",
    "                                            iterations=5000, loss_function='MAE', custom_metric=\"MAE\", verbose=0)"
   ]
  },
  {
   "cell_type": "code",
   "execution_count": 68,
   "metadata": {},
   "outputs": [
    {
     "name": "stdout",
     "output_type": "stream",
     "text": [
      "             R2        MAE\n",
      "Score  0.208469  13.067395\n"
     ]
    }
   ],
   "source": [
    "# RMSE loss function\n",
    "drawdown_model = train_and_validate_catboost(features.train, features.valid, drawdown.train, drawdown.valid, \n",
    "                                            iterations=5000, loss_function='RMSE', custom_metric=\"RMSE\", verbose=0)"
   ]
  },
  {
   "cell_type": "markdown",
   "metadata": {},
   "source": [
    "### Valid MAE error on 2nd target: number of competitors"
   ]
  },
  {
   "cell_type": "code",
   "execution_count": 98,
   "metadata": {},
   "outputs": [
    {
     "name": "stderr",
     "output_type": "stream",
     "text": [
      "Default metric period is 5 because MAE is/are not implemented for GPU\n"
     ]
    },
    {
     "name": "stdout",
     "output_type": "stream",
     "text": [
      "             R2       MAE\n",
      "Score  0.255137  1.868958\n"
     ]
    }
   ],
   "source": [
    "# MAE loss function\n",
    "num_comp_model = train_and_validate_catboost(features.train, features.valid, num_competitors.train, num_competitors.valid, \n",
    "                                            iterations=5000, loss_function='MAE', custom_metric=\"MAE\", verbose=0)"
   ]
  },
  {
   "cell_type": "code",
   "execution_count": 99,
   "metadata": {},
   "outputs": [
    {
     "name": "stdout",
     "output_type": "stream",
     "text": [
      "             R2       MAE\n",
      "Score  0.310553  1.884676\n"
     ]
    }
   ],
   "source": [
    "# RMSE loss function\n",
    "num_comp_model = train_and_validate_catboost(features.train, features.valid, num_competitors.train, num_competitors.valid, \n",
    "                                            iterations=5000, loss_function='RMSE', custom_metric=\"RMSE\", verbose=0)"
   ]
  },
  {
   "attachments": {},
   "cell_type": "markdown",
   "metadata": {},
   "source": [
    "## Text processing: \n",
    "pass to catboost text features like 'Наименование КС'"
   ]
  },
  {
   "attachments": {},
   "cell_type": "markdown",
   "metadata": {},
   "source": [
    "### Valid MAE error on 1st target: price drawdown in percents"
   ]
  },
  {
   "cell_type": "code",
   "execution_count": 39,
   "metadata": {},
   "outputs": [
    {
     "name": "stderr",
     "output_type": "stream",
     "text": [
      "Default metric period is 5 because MAE is/are not implemented for GPU\n"
     ]
    },
    {
     "name": "stdout",
     "output_type": "stream",
     "text": [
      "             R2        MAE\n",
      "Score  0.110359  12.890812\n"
     ]
    }
   ],
   "source": [
    "# MAE loss function\n",
    "drawdown_model = train_and_validate_catboost(features.train, features.valid, drawdown.train, drawdown.valid, \n",
    "                                            use_text_features=True,\n",
    "                                            iterations=5000, loss_function='MAE', custom_metric=\"MAE\", verbose=0)"
   ]
  },
  {
   "attachments": {},
   "cell_type": "markdown",
   "metadata": {},
   "source": [
    "### Valid MAE error on 2nd target: number of competitors"
   ]
  },
  {
   "cell_type": "code",
   "execution_count": 106,
   "metadata": {},
   "outputs": [
    {
     "name": "stderr",
     "output_type": "stream",
     "text": [
      "Default metric period is 5 because MAE is/are not implemented for GPU\n"
     ]
    },
    {
     "name": "stdout",
     "output_type": "stream",
     "text": [
      "             R2       MAE\n",
      "Score  0.277157  1.861879\n"
     ]
    }
   ],
   "source": [
    "# MAE loss function\n",
    "num_comp_model = train_and_validate_catboost(features.train, features.valid, num_competitors.train, num_competitors.valid, \n",
    "                                            use_text_features=True,\n",
    "                                            iterations=5000, loss_function='MAE', custom_metric=\"MAE\", verbose=0)"
   ]
  },
  {
   "attachments": {},
   "cell_type": "markdown",
   "metadata": {},
   "source": [
    "## TEXT VECTORS:\n",
    "transform code to words, then transform word columns (Наименование КС и code) to embedding vectors, using gensim"
   ]
  },
  {
   "cell_type": "code",
   "execution_count": 30,
   "metadata": {},
   "outputs": [
    {
     "name": "stdout",
     "output_type": "stream",
     "text": [
      "[INFO] Loading classifier database...\n",
      "[INFO] Starting code to words process...\n",
      "[INFO] Transform words to vectors...\n",
      "[INFO] Unite vectors...\n",
      "[INFO] X y split...\n",
      "[INFO] Done...\n"
     ]
    }
   ],
   "source": [
    "features, drawdown, num_competitors = get_train_val_data_for_catboost(\n",
    "                                            data, \n",
    "                                            status_columns=['Завершена'],\n",
    "                                            vectorize_features=True,\n",
    "                                            use_date_features=True)"
   ]
  },
  {
   "attachments": {},
   "cell_type": "markdown",
   "metadata": {},
   "source": [
    "### Valid MAE error on 1st target: price drawdown in percents"
   ]
  },
  {
   "cell_type": "code",
   "execution_count": 36,
   "metadata": {},
   "outputs": [
    {
     "name": "stderr",
     "output_type": "stream",
     "text": [
      "Default metric period is 5 because MAE is/are not implemented for GPU\n"
     ]
    },
    {
     "name": "stdout",
     "output_type": "stream",
     "text": [
      "             R2       MAE\n",
      "Score  0.133225  12.75187\n"
     ]
    }
   ],
   "source": [
    "# MAE loss function\n",
    "drawdown_model = train_and_validate_catboost(features.train, features.valid, drawdown.train, drawdown.valid, \n",
    "                                            iterations=5000, loss_function='MAE', custom_metric=\"MAE\", verbose=0)"
   ]
  },
  {
   "cell_type": "code",
   "execution_count": 37,
   "metadata": {},
   "outputs": [
    {
     "name": "stdout",
     "output_type": "stream",
     "text": [
      "             R2       MAE\n",
      "Score  0.257744  12.59445\n"
     ]
    }
   ],
   "source": [
    "# RMSE loss function\n",
    "drawdown_model = train_and_validate_catboost(features.train, features.valid, drawdown.train, drawdown.valid, \n",
    "                                            iterations=5000, loss_function='RMSE', custom_metric=\"RMSE\", verbose=0)"
   ]
  },
  {
   "attachments": {},
   "cell_type": "markdown",
   "metadata": {},
   "source": [
    "### Valid MAE error on 2nd target: number of competitors"
   ]
  },
  {
   "cell_type": "code",
   "execution_count": 35,
   "metadata": {},
   "outputs": [
    {
     "name": "stderr",
     "output_type": "stream",
     "text": [
      "Default metric period is 5 because MAE is/are not implemented for GPU\n"
     ]
    },
    {
     "name": "stdout",
     "output_type": "stream",
     "text": [
      "             R2       MAE\n",
      "Score  0.284966  1.844291\n"
     ]
    }
   ],
   "source": [
    "# MAE loss function\n",
    "num_comp_model = train_and_validate_catboost(features.train, features.valid, num_competitors.train, num_competitors.valid, \n",
    "                                            iterations=5000, loss_function='MAE', custom_metric=\"MAE\", verbose=0)"
   ]
  },
  {
   "cell_type": "code",
   "execution_count": 34,
   "metadata": {},
   "outputs": [
    {
     "name": "stdout",
     "output_type": "stream",
     "text": [
      "             R2       MAE\n",
      "Score  0.343018  1.851319\n"
     ]
    }
   ],
   "source": [
    "# RMSE loss function\n",
    "num_comp_model = train_and_validate_catboost(features.train, features.valid, num_competitors.train, num_competitors.valid, \n",
    "                                            iterations=5000, loss_function='RMSE', custom_metric=\"RMSE\", verbose=0)"
   ]
  }
 ],
 "metadata": {
  "kernelspec": {
   "display_name": "Python 3.8.15 ('auto')",
   "language": "python",
   "name": "python3"
  },
  "language_info": {
   "codemirror_mode": {
    "name": "ipython",
    "version": 3
   },
   "file_extension": ".py",
   "mimetype": "text/x-python",
   "name": "python",
   "nbconvert_exporter": "python",
   "pygments_lexer": "ipython3",
   "version": "3.8.15"
  },
  "orig_nbformat": 4,
  "vscode": {
   "interpreter": {
    "hash": "b79822e6d0623d97143e5bd24c1a773d77f2bcea000dac5176ec270270dafc0a"
   }
  }
 },
 "nbformat": 4,
 "nbformat_minor": 2
}
